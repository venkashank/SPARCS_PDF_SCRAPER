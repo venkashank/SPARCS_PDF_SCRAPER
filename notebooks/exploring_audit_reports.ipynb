{
 "cells": [
  {
   "cell_type": "code",
   "execution_count": 1,
   "metadata": {},
   "outputs": [],
   "source": [
    "import polars as pl"
   ]
  },
  {
   "cell_type": "code",
   "execution_count": 212,
   "metadata": {},
   "outputs": [],
   "source": [
    "dfs = (\n",
    "    pl.read_csv(\"../src/audit_reports/*.csv\", infer_schema_length=0)\n",
    "    .with_columns(\n",
    "        pl.col(\"Report Type\").str.split(\" \").list.get(-1).alias(\"Report_Year\"),\n",
    "        pl.col(\"Date Published\")\n",
    "        .str.split(\" \")\n",
    "        .list.get(-1)\n",
    "        .str.to_date(\"%m/%d/%Y\")\n",
    "        .alias(\"Report_Published_Date\"),\n",
    "        pl.col(\"Report Type\")\n",
    "        .str.split(\" \")\n",
    "        .list.slice(0, 2)\n",
    "        .list.join(\" \")\n",
    "        .alias(\"Report_Category\"),\n",
    "        pl.col(\"Latest Submission\").str.to_date(\"%m/%d/%y\"),\n",
    "    )\n",
    "    .drop(\"TOTAL\")\n",
    "    .filter(~pl.col(\"PFI\").str.contains(\"TOTAL\"))\n",
    ")"
   ]
  },
  {
   "cell_type": "code",
   "execution_count": 222,
   "metadata": {},
   "outputs": [],
   "source": [
    "clean_df_piv = (\n",
    "    (\n",
    "        dfs.melt(\n",
    "            id_vars=[\n",
    "                \"PFI\",\n",
    "                \"FACILITY\",\n",
    "                \"Latest Submission\",\n",
    "                \"Report Type\",\n",
    "                \"Date Published\",\n",
    "                \"Report_Year\",\n",
    "                \"Report_Published_Date\",\n",
    "                \"Report_Category\",\n",
    "            ],\n",
    "            variable_name=\"Report_Month\",\n",
    "            value_name=\"Records_Submitted\",\n",
    "        )\n",
    "    )\n",
    "    .with_columns(pl.col(\"Records_Submitted\").str.replace_all(\",\", \"\"))\n",
    "    .with_columns(pl.col(\"Records_Submitted\").cast((pl.Int32)))\n",
    ")"
   ]
  },
  {
   "cell_type": "code",
   "execution_count": 229,
   "metadata": {},
   "outputs": [],
   "source": [
    "clean_df_piv.write_parquet(\"audit_reports.parquet\")"
   ]
  }
 ],
 "metadata": {
  "kernelspec": {
   "display_name": "pydata",
   "language": "python",
   "name": "python3"
  },
  "language_info": {
   "codemirror_mode": {
    "name": "ipython",
    "version": 3
   },
   "file_extension": ".py",
   "mimetype": "text/x-python",
   "name": "python",
   "nbconvert_exporter": "python",
   "pygments_lexer": "ipython3",
   "version": "3.11.8"
  }
 },
 "nbformat": 4,
 "nbformat_minor": 2
}
